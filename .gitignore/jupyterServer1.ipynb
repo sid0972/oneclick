{
 "cells": [
  {
   "cell_type": "code",
   "execution_count": null,
   "metadata": {},
   "outputs": [],
   "source": [
    "from socket import *\n",
    "\n",
    "def createServer():\n",
    "    serversocket = socket(AF_INET, SOCK_STREAM)\n",
    "    serversocket.bind(('localhost',8888))\n",
    "    serversocket.listen(5)\n",
    "    while(1):\n",
    "        (clientsocket, address) = serversocket.accept()\n",
    "        clientsocket.send(\"HTTP/1.1 200 OK\\n\"\n",
    "         +\"Content-Type: text/html\\n\"\n",
    "         +\"\\n\" # Important!\n",
    "         +\"<html><body>Hello World</body></html>\\n\")\n",
    "        clientsocket.shutdown(SHUT_WR)\n",
    "        clientsocket.close()\n",
    "\n",
    "    serversocket.close()\n",
    "\n",
    "createServer()"
   ]
  }
 ],
 "metadata": {
  "kernelspec": {
   "display_name": "Python 2",
   "language": "python",
   "name": "python2"
  },
  "language_info": {
   "codemirror_mode": {
    "name": "ipython",
    "version": 2
   },
   "file_extension": ".py",
   "mimetype": "text/x-python",
   "name": "python",
   "nbconvert_exporter": "python",
   "pygments_lexer": "ipython2",
   "version": "2.7.15"
  }
 },
 "nbformat": 4,
 "nbformat_minor": 2
}
